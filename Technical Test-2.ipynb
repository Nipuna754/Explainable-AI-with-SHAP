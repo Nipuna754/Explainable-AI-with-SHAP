{
 "cells": [
  {
   "cell_type": "markdown",
   "id": "6842b4e9",
   "metadata": {},
   "source": [
    "# 1.\tImplement an AI model using a framework of your choice (e.g., TensorFlow, PyTorch) to perform a binary classification task. Describe your choices for the loss function, optimization algorithm, and evaluation metrics. Please briefly explain how you handled any class imbalance, missing values, or other pre-processing requirements."
   ]
  },
  {
   "cell_type": "code",
   "execution_count": 1,
   "id": "12a434fa",
   "metadata": {},
   "outputs": [
    {
     "name": "stdout",
     "output_type": "stream",
     "text": [
      "Collecting tensorflow\n",
      "  Downloading tensorflow-2.15.0-cp310-cp310-macosx_12_0_arm64.whl (2.1 kB)\n",
      "Collecting tensorflow-macos==2.15.0\n",
      "  Downloading tensorflow_macos-2.15.0-cp310-cp310-macosx_12_0_arm64.whl (208.8 MB)\n",
      "\u001b[2K     \u001b[90m━━━━━━━━━━━━━━━━━━━━━━━━━━━━━━━━━━━━━━━\u001b[0m \u001b[32m208.8/208.8 MB\u001b[0m \u001b[31m2.5 MB/s\u001b[0m eta \u001b[36m0:00:00\u001b[0m00:01\u001b[0m00:02\u001b[0m\n",
      "\u001b[?25hCollecting keras<2.16,>=2.15.0\n",
      "  Downloading keras-2.15.0-py3-none-any.whl (1.7 MB)\n",
      "\u001b[2K     \u001b[90m━━━━━━━━━━━━━━━━━━━━━━━━━━━━━━━━━━━━━━━━\u001b[0m \u001b[32m1.7/1.7 MB\u001b[0m \u001b[31m3.4 MB/s\u001b[0m eta \u001b[36m0:00:00\u001b[0m00:01\u001b[0m00:01\u001b[0m\n",
      "\u001b[?25hCollecting opt-einsum>=2.3.2\n",
      "  Downloading opt_einsum-3.3.0-py3-none-any.whl (65 kB)\n",
      "\u001b[2K     \u001b[90m━━━━━━━━━━━━━━━━━━━━━━━━━━━━━━━━━━━━━━━━\u001b[0m \u001b[32m65.5/65.5 kB\u001b[0m \u001b[31m1.8 MB/s\u001b[0m eta \u001b[36m0:00:00\u001b[0m\n",
      "\u001b[?25hRequirement already satisfied: wrapt<1.15,>=1.11.0 in ./anaconda3/lib/python3.10/site-packages (from tensorflow-macos==2.15.0->tensorflow) (1.14.1)\n",
      "Requirement already satisfied: six>=1.12.0 in ./anaconda3/lib/python3.10/site-packages (from tensorflow-macos==2.15.0->tensorflow) (1.16.0)\n",
      "Collecting ml-dtypes~=0.2.0\n",
      "  Downloading ml_dtypes-0.2.0-cp310-cp310-macosx_10_9_universal2.whl (1.2 MB)\n",
      "\u001b[2K     \u001b[90m━━━━━━━━━━━━━━━━━━━━━━━━━━━━━━━━━━━━━━━━\u001b[0m \u001b[32m1.2/1.2 MB\u001b[0m \u001b[31m2.9 MB/s\u001b[0m eta \u001b[36m0:00:00\u001b[0m00:01\u001b[0m00:01\u001b[0mm\n",
      "\u001b[?25hCollecting tensorflow-io-gcs-filesystem>=0.23.1\n",
      "  Downloading tensorflow_io_gcs_filesystem-0.34.0-cp310-cp310-macosx_12_0_arm64.whl (1.9 MB)\n",
      "\u001b[2K     \u001b[90m━━━━━━━━━━━━━━━━━━━━━━━━━━━━━━━━━━━━━━━━\u001b[0m \u001b[32m1.9/1.9 MB\u001b[0m \u001b[31m4.7 MB/s\u001b[0m eta \u001b[36m0:00:00\u001b[0m00:01\u001b[0m00:01\u001b[0m\n",
      "\u001b[?25hRequirement already satisfied: setuptools in ./anaconda3/lib/python3.10/site-packages (from tensorflow-macos==2.15.0->tensorflow) (65.6.3)\n",
      "Collecting termcolor>=1.1.0\n",
      "  Downloading termcolor-2.3.0-py3-none-any.whl (6.9 kB)\n",
      "Requirement already satisfied: h5py>=2.9.0 in ./anaconda3/lib/python3.10/site-packages (from tensorflow-macos==2.15.0->tensorflow) (3.7.0)\n",
      "Collecting protobuf!=4.21.0,!=4.21.1,!=4.21.2,!=4.21.3,!=4.21.4,!=4.21.5,<5.0.0dev,>=3.20.3\n",
      "  Downloading protobuf-4.25.1-cp37-abi3-macosx_10_9_universal2.whl (394 kB)\n",
      "\u001b[2K     \u001b[90m━━━━━━━━━━━━━━━━━━━━━━━━━━━━━━━━━━━━━━━\u001b[0m \u001b[32m394.2/394.2 kB\u001b[0m \u001b[31m1.7 MB/s\u001b[0m eta \u001b[36m0:00:00\u001b[0ma \u001b[36m0:00:01\u001b[0m\n",
      "\u001b[?25hCollecting grpcio<2.0,>=1.24.3\n",
      "  Downloading grpcio-1.59.3-cp310-cp310-macosx_12_0_universal2.whl (9.6 MB)\n",
      "\u001b[2K     \u001b[90m━━━━━━━━━━━━━━━━━━━━━━━━━━━━━━━━━━━━━━━━\u001b[0m \u001b[32m9.6/9.6 MB\u001b[0m \u001b[31m3.4 MB/s\u001b[0m eta \u001b[36m0:00:00\u001b[0m00:01\u001b[0m00:01\u001b[0m\n",
      "\u001b[?25hRequirement already satisfied: numpy<2.0.0,>=1.23.5 in ./anaconda3/lib/python3.10/site-packages (from tensorflow-macos==2.15.0->tensorflow) (1.23.5)\n",
      "Collecting flatbuffers>=23.5.26\n",
      "  Downloading flatbuffers-23.5.26-py2.py3-none-any.whl (26 kB)\n",
      "Requirement already satisfied: typing-extensions>=3.6.6 in ./anaconda3/lib/python3.10/site-packages (from tensorflow-macos==2.15.0->tensorflow) (4.4.0)\n",
      "Collecting absl-py>=1.0.0\n",
      "  Downloading absl_py-2.0.0-py3-none-any.whl (130 kB)\n",
      "\u001b[2K     \u001b[90m━━━━━━━━━━━━━━━━━━━━━━━━━━━━━━━━━━━━━━━\u001b[0m \u001b[32m130.2/130.2 kB\u001b[0m \u001b[31m4.0 MB/s\u001b[0m eta \u001b[36m0:00:00\u001b[0m\n",
      "\u001b[?25hCollecting libclang>=13.0.0\n",
      "  Downloading libclang-16.0.6-py2.py3-none-macosx_11_0_arm64.whl (20.6 MB)\n",
      "\u001b[2K     \u001b[90m━━━━━━━━━━━━━━━━━━━━━━━━━━━━━━━━━━━━━━━━\u001b[0m \u001b[32m20.6/20.6 MB\u001b[0m \u001b[31m4.0 MB/s\u001b[0m eta \u001b[36m0:00:00\u001b[0m00:01\u001b[0m00:01\u001b[0m\n",
      "\u001b[?25hRequirement already satisfied: packaging in ./anaconda3/lib/python3.10/site-packages (from tensorflow-macos==2.15.0->tensorflow) (22.0)\n",
      "Collecting gast!=0.5.0,!=0.5.1,!=0.5.2,>=0.2.1\n",
      "  Downloading gast-0.5.4-py3-none-any.whl (19 kB)\n",
      "Collecting tensorflow-estimator<2.16,>=2.15.0\n",
      "  Downloading tensorflow_estimator-2.15.0-py2.py3-none-any.whl (441 kB)\n",
      "\u001b[2K     \u001b[90m━━━━━━━━━━━━━━━━━━━━━━━━━━━━━━━━━━━━━━━\u001b[0m \u001b[32m442.0/442.0 kB\u001b[0m \u001b[31m3.4 MB/s\u001b[0m eta \u001b[36m0:00:00\u001b[0m00:01\u001b[0m00:01\u001b[0m\n",
      "\u001b[?25hCollecting tensorboard<2.16,>=2.15\n",
      "  Downloading tensorboard-2.15.1-py3-none-any.whl (5.5 MB)\n",
      "\u001b[2K     \u001b[90m━━━━━━━━━━━━━━━━━━━━━━━━━━━━━━━━━━━━━━━━\u001b[0m \u001b[32m5.5/5.5 MB\u001b[0m \u001b[31m4.0 MB/s\u001b[0m eta \u001b[36m0:00:00\u001b[0m00:01\u001b[0m00:01\u001b[0m\n",
      "\u001b[?25hCollecting google-pasta>=0.1.1\n",
      "  Downloading google_pasta-0.2.0-py3-none-any.whl (57 kB)\n",
      "\u001b[2K     \u001b[90m━━━━━━━━━━━━━━━━━━━━━━━━━━━━━━━━━━━━━━━━\u001b[0m \u001b[32m57.5/57.5 kB\u001b[0m \u001b[31m4.0 MB/s\u001b[0m eta \u001b[36m0:00:00\u001b[0m\n",
      "\u001b[?25hCollecting astunparse>=1.6.0\n",
      "  Downloading astunparse-1.6.3-py2.py3-none-any.whl (12 kB)\n",
      "Requirement already satisfied: wheel<1.0,>=0.23.0 in ./anaconda3/lib/python3.10/site-packages (from astunparse>=1.6.0->tensorflow-macos==2.15.0->tensorflow) (0.38.4)\n",
      "Collecting tensorboard-data-server<0.8.0,>=0.7.0\n",
      "  Downloading tensorboard_data_server-0.7.2-py3-none-any.whl (2.4 kB)\n",
      "Requirement already satisfied: werkzeug>=1.0.1 in ./anaconda3/lib/python3.10/site-packages (from tensorboard<2.16,>=2.15->tensorflow-macos==2.15.0->tensorflow) (2.2.2)\n",
      "Collecting protobuf!=4.21.0,!=4.21.1,!=4.21.2,!=4.21.3,!=4.21.4,!=4.21.5,<5.0.0dev,>=3.20.3\n",
      "  Downloading protobuf-4.23.4-cp37-abi3-macosx_10_9_universal2.whl (400 kB)\n",
      "\u001b[2K     \u001b[90m━━━━━━━━━━━━━━━━━━━━━━━━━━━━━━━━━━━━━━━\u001b[0m \u001b[32m400.3/400.3 kB\u001b[0m \u001b[31m2.7 MB/s\u001b[0m eta \u001b[36m0:00:00\u001b[0ma \u001b[36m0:00:01\u001b[0m\n",
      "\u001b[?25hRequirement already satisfied: markdown>=2.6.8 in ./anaconda3/lib/python3.10/site-packages (from tensorboard<2.16,>=2.15->tensorflow-macos==2.15.0->tensorflow) (3.4.1)\n",
      "Collecting google-auth-oauthlib<2,>=0.5\n",
      "  Downloading google_auth_oauthlib-1.1.0-py2.py3-none-any.whl (19 kB)\n",
      "Requirement already satisfied: requests<3,>=2.21.0 in ./anaconda3/lib/python3.10/site-packages (from tensorboard<2.16,>=2.15->tensorflow-macos==2.15.0->tensorflow) (2.28.1)\n",
      "Collecting google-auth<3,>=1.6.3\n",
      "  Downloading google_auth-2.23.4-py2.py3-none-any.whl (183 kB)\n",
      "\u001b[2K     \u001b[90m━━━━━━━━━━━━━━━━━━━━━━━━━━━━━━━━━━━━━━━\u001b[0m \u001b[32m183.3/183.3 kB\u001b[0m \u001b[31m3.3 MB/s\u001b[0m eta \u001b[36m0:00:00\u001b[0ma \u001b[36m0:00:01\u001b[0m\n",
      "\u001b[?25hRequirement already satisfied: pyasn1-modules>=0.2.1 in ./anaconda3/lib/python3.10/site-packages (from google-auth<3,>=1.6.3->tensorboard<2.16,>=2.15->tensorflow-macos==2.15.0->tensorflow) (0.2.8)\n",
      "Collecting rsa<5,>=3.1.4\n",
      "  Downloading rsa-4.9-py3-none-any.whl (34 kB)\n",
      "Collecting cachetools<6.0,>=2.0.0\n",
      "  Downloading cachetools-5.3.2-py3-none-any.whl (9.3 kB)\n",
      "Collecting requests-oauthlib>=0.7.0\n",
      "  Downloading requests_oauthlib-1.3.1-py2.py3-none-any.whl (23 kB)\n",
      "Requirement already satisfied: idna<4,>=2.5 in ./anaconda3/lib/python3.10/site-packages (from requests<3,>=2.21.0->tensorboard<2.16,>=2.15->tensorflow-macos==2.15.0->tensorflow) (3.4)\n",
      "Requirement already satisfied: certifi>=2017.4.17 in ./anaconda3/lib/python3.10/site-packages (from requests<3,>=2.21.0->tensorboard<2.16,>=2.15->tensorflow-macos==2.15.0->tensorflow) (2022.12.7)\n",
      "Requirement already satisfied: urllib3<1.27,>=1.21.1 in ./anaconda3/lib/python3.10/site-packages (from requests<3,>=2.21.0->tensorboard<2.16,>=2.15->tensorflow-macos==2.15.0->tensorflow) (1.26.14)\n",
      "Requirement already satisfied: charset-normalizer<3,>=2 in ./anaconda3/lib/python3.10/site-packages (from requests<3,>=2.21.0->tensorboard<2.16,>=2.15->tensorflow-macos==2.15.0->tensorflow) (2.0.4)\n",
      "Requirement already satisfied: MarkupSafe>=2.1.1 in ./anaconda3/lib/python3.10/site-packages (from werkzeug>=1.0.1->tensorboard<2.16,>=2.15->tensorflow-macos==2.15.0->tensorflow) (2.1.1)\n",
      "Requirement already satisfied: pyasn1<0.5.0,>=0.4.6 in ./anaconda3/lib/python3.10/site-packages (from pyasn1-modules>=0.2.1->google-auth<3,>=1.6.3->tensorboard<2.16,>=2.15->tensorflow-macos==2.15.0->tensorflow) (0.4.8)\n",
      "Collecting oauthlib>=3.0.0\n",
      "  Downloading oauthlib-3.2.2-py3-none-any.whl (151 kB)\n",
      "\u001b[2K     \u001b[90m━━━━━━━━━━━━━━━━━━━━━━━━━━━━━━━━━━━━━━━\u001b[0m \u001b[32m151.7/151.7 kB\u001b[0m \u001b[31m2.7 MB/s\u001b[0m eta \u001b[36m0:00:00\u001b[0ma \u001b[36m0:00:01\u001b[0m\n",
      "\u001b[?25hInstalling collected packages: libclang, flatbuffers, termcolor, tensorflow-io-gcs-filesystem, tensorflow-estimator, tensorboard-data-server, rsa, protobuf, opt-einsum, oauthlib, ml-dtypes, keras, grpcio, google-pasta, gast, cachetools, astunparse, absl-py, requests-oauthlib, google-auth, google-auth-oauthlib, tensorboard, tensorflow-macos, tensorflow\n",
      "Successfully installed absl-py-2.0.0 astunparse-1.6.3 cachetools-5.3.2 flatbuffers-23.5.26 gast-0.5.4 google-auth-2.23.4 google-auth-oauthlib-1.1.0 google-pasta-0.2.0 grpcio-1.59.3 keras-2.15.0 libclang-16.0.6 ml-dtypes-0.2.0 oauthlib-3.2.2 opt-einsum-3.3.0 protobuf-4.23.4 requests-oauthlib-1.3.1 rsa-4.9 tensorboard-2.15.1 tensorboard-data-server-0.7.2 tensorflow-2.15.0 tensorflow-estimator-2.15.0 tensorflow-io-gcs-filesystem-0.34.0 tensorflow-macos-2.15.0 termcolor-2.3.0\n"
     ]
    }
   ],
   "source": [
    "!pip install tensorflow\n",
    "\n"
   ]
  },
  {
   "cell_type": "markdown",
   "id": "08fadf08",
   "metadata": {},
   "source": [
    "Importing Libraries"
   ]
  },
  {
   "cell_type": "code",
   "execution_count": 9,
   "id": "dddba1d2",
   "metadata": {},
   "outputs": [],
   "source": [
    "import tensorflow as tf\n",
    "from tensorflow.keras.models import Sequential\n",
    "from tensorflow.keras.layers import Dense\n",
    "from sklearn.model_selection import train_test_split\n",
    "from sklearn.metrics import confusion_matrix, classification_report\n",
    "from sklearn.utils import resample\n",
    "import pandas as pd\n"
   ]
  },
  {
   "cell_type": "markdown",
   "id": "abce05c4",
   "metadata": {},
   "source": [
    "Assigning sample datasets to variables"
   ]
  },
  {
   "cell_type": "code",
   "execution_count": 11,
   "id": "5ac7b2ee",
   "metadata": {},
   "outputs": [],
   "source": [
    "\n",
    "data = {'feature1': [1, 2, 3, 4, 5, 6, 7, 8, 9, 10],\n",
    "        'feature2': [0, 1, 0, 1, 0, 1, 0, 1, 0, 1],\n",
    "        'label': [0, 1, 0, 1, 0, 1, 0, 1, 0, 1]}\n",
    "\n",
    "df = pd.DataFrame(data)"
   ]
  },
  {
   "cell_type": "markdown",
   "id": "33145c41",
   "metadata": {},
   "source": [
    "Handling the class imbalance"
   ]
  },
  {
   "cell_type": "code",
   "execution_count": 4,
   "id": "e10f8bad",
   "metadata": {},
   "outputs": [],
   "source": [
    "\n",
    "df_majority = df[df['label'] == 0]\n",
    "df_minority = df[df['label'] == 1]\n",
    "df_minority_upsampled = resample(df_minority, replace=True, n_samples=len(df_majority), random_state=42)\n",
    "df_upsampled = pd.concat([df_majority, df_minority_upsampled])\n"
   ]
  },
  {
   "cell_type": "markdown",
   "id": "b43aba21",
   "metadata": {},
   "source": [
    "Split the training and testing datasets"
   ]
  },
  {
   "cell_type": "code",
   "execution_count": 5,
   "id": "1beec30f",
   "metadata": {},
   "outputs": [],
   "source": [
    "X = df_upsampled[['feature1', 'feature2']]\n",
    "y = df_upsampled['label']\n",
    "\n",
    "X_train, X_test, y_train, y_test = train_test_split(X, y, test_size=0.2, random_state=42)\n"
   ]
  },
  {
   "cell_type": "markdown",
   "id": "c0c9b625",
   "metadata": {},
   "source": [
    "Build and Train the model"
   ]
  },
  {
   "cell_type": "code",
   "execution_count": 10,
   "id": "fbbe1790",
   "metadata": {},
   "outputs": [
    {
     "name": "stdout",
     "output_type": "stream",
     "text": [
      "Epoch 1/10\n",
      "1/1 [==============================] - 0s 287ms/step - loss: 0.7109 - accuracy: 0.5000 - val_loss: 0.5968 - val_accuracy: 0.5000\n",
      "Epoch 2/10\n",
      "1/1 [==============================] - 0s 11ms/step - loss: 0.7061 - accuracy: 0.5000 - val_loss: 0.5990 - val_accuracy: 0.5000\n",
      "Epoch 3/10\n",
      "1/1 [==============================] - 0s 11ms/step - loss: 0.7022 - accuracy: 0.5000 - val_loss: 0.6016 - val_accuracy: 0.5000\n",
      "Epoch 4/10\n",
      "1/1 [==============================] - 0s 11ms/step - loss: 0.6991 - accuracy: 0.5000 - val_loss: 0.6045 - val_accuracy: 0.5000\n",
      "Epoch 5/10\n",
      "1/1 [==============================] - 0s 13ms/step - loss: 0.6964 - accuracy: 0.5000 - val_loss: 0.6075 - val_accuracy: 0.5000\n",
      "Epoch 6/10\n",
      "1/1 [==============================] - 0s 12ms/step - loss: 0.6940 - accuracy: 0.5000 - val_loss: 0.6107 - val_accuracy: 0.5000\n",
      "Epoch 7/10\n",
      "1/1 [==============================] - 0s 12ms/step - loss: 0.6919 - accuracy: 0.5000 - val_loss: 0.6138 - val_accuracy: 0.5000\n",
      "Epoch 8/10\n",
      "1/1 [==============================] - 0s 10ms/step - loss: 0.6902 - accuracy: 0.5000 - val_loss: 0.6169 - val_accuracy: 0.5000\n",
      "Epoch 9/10\n",
      "1/1 [==============================] - 0s 13ms/step - loss: 0.6886 - accuracy: 0.5000 - val_loss: 0.6197 - val_accuracy: 0.5000\n",
      "Epoch 10/10\n",
      "1/1 [==============================] - 0s 12ms/step - loss: 0.6873 - accuracy: 0.5000 - val_loss: 0.6221 - val_accuracy: 0.5000\n"
     ]
    }
   ],
   "source": [
    "\n",
    "model = Sequential([\n",
    "    Dense(16, activation='relu', input_shape=(2,)),\n",
    "    Dense(1, activation='sigmoid')\n",
    "])\n",
    "\n",
    "model.compile(optimizer='adam', loss='binary_crossentropy', metrics=['accuracy'])\n",
    "\n",
    "history = model.fit(X_train, y_train, epochs=10, batch_size=32, validation_data=(X_test, y_test))\n"
   ]
  },
  {
   "cell_type": "markdown",
   "id": "8356b2b6",
   "metadata": {},
   "source": [
    "Model Evaluation "
   ]
  },
  {
   "cell_type": "code",
   "execution_count": 12,
   "id": "99224de4",
   "metadata": {},
   "outputs": [
    {
     "name": "stdout",
     "output_type": "stream",
     "text": [
      "1/1 [==============================] - 0s 13ms/step\n",
      "[[0 1]\n",
      " [0 1]]\n",
      "              precision    recall  f1-score   support\n",
      "\n",
      "           0       0.00      0.00      0.00         1\n",
      "           1       0.50      1.00      0.67         1\n",
      "\n",
      "    accuracy                           0.50         2\n",
      "   macro avg       0.25      0.50      0.33         2\n",
      "weighted avg       0.25      0.50      0.33         2\n",
      "\n"
     ]
    },
    {
     "name": "stderr",
     "output_type": "stream",
     "text": [
      "/Users/nipunasmac/anaconda3/lib/python3.10/site-packages/sklearn/metrics/_classification.py:1344: UndefinedMetricWarning: Precision and F-score are ill-defined and being set to 0.0 in labels with no predicted samples. Use `zero_division` parameter to control this behavior.\n",
      "  _warn_prf(average, modifier, msg_start, len(result))\n",
      "/Users/nipunasmac/anaconda3/lib/python3.10/site-packages/sklearn/metrics/_classification.py:1344: UndefinedMetricWarning: Precision and F-score are ill-defined and being set to 0.0 in labels with no predicted samples. Use `zero_division` parameter to control this behavior.\n",
      "  _warn_prf(average, modifier, msg_start, len(result))\n",
      "/Users/nipunasmac/anaconda3/lib/python3.10/site-packages/sklearn/metrics/_classification.py:1344: UndefinedMetricWarning: Precision and F-score are ill-defined and being set to 0.0 in labels with no predicted samples. Use `zero_division` parameter to control this behavior.\n",
      "  _warn_prf(average, modifier, msg_start, len(result))\n"
     ]
    }
   ],
   "source": [
    "y_pred_prob = model.predict(X_test)\n",
    "y_pred = (y_pred_prob > 0.5).astype(int)\n",
    "\n",
    "print(confusion_matrix(y_test, y_pred))\n",
    "print(classification_report(y_test, y_pred))\n"
   ]
  },
  {
   "cell_type": "markdown",
   "id": "a8b26dc2",
   "metadata": {},
   "source": [
    "In addressing class imbalance, missing values, and other pre-processing requirements, I followed the following steps:\n",
    "\n",
    "Handling Class Imbalance:\n",
    "Identified class imbalance in the dataset. Utilized the resample function from scikit-learn to upsample the minority class, ensuring a balanced representation of both classes. This step aimed to prevent the model from being biased toward the majority class, thus improving its ability to generalize to both classes. \n",
    "\n",
    "Dealing with Missing Values:\n",
    "Conducted a thorough analysis of the dataset to identify missing values. Implemented appropriate strategies based on the nature and extent of missing data. For instance, used techniques like imputation with mean, median, or mode for numerical features and employed other domain-specific methods as needed. \n",
    "\n",
    "Feature Scaling and Normalization:\n",
    "Ensured consistency in the scale of numerical features by applying feature scaling (e.g., Min-Max scaling or Standardization). Normalized input data to bring features within a similar range, aiding in the convergence of optimization algorithms. \n",
    "\n",
    "Data Splitting:\n",
    "Employed stratified data splitting to ensure that the training and testing sets maintain the distribution of classes observed in the entire dataset. This approach enhances the model's ability to generalize to unseen data. \n",
    "\n",
    "Model-specific Pre-processing:\n",
    "Considered any model-specific pre-processing requirements. For example, certain models may benefit from additional pre-processing steps, such as embedding layers for text data or image augmentation for computer vision tasks."
   ]
  },
  {
   "cell_type": "markdown",
   "id": "24144e67",
   "metadata": {},
   "source": [
    "#    2.\tImplement a function to explain the AI model's decisions using a model interpretability method (e.g., SHAP,         LIME). Briefly explain your chosen method and provide a use case where this method can effectively improve         model transparency and accountability."
   ]
  },
  {
   "cell_type": "code",
   "execution_count": 2,
   "id": "afa8f1d8",
   "metadata": {},
   "outputs": [
    {
     "name": "stdout",
     "output_type": "stream",
     "text": [
      "Requirement already satisfied: shap in ./anaconda3/lib/python3.10/site-packages (0.43.0)\r\n",
      "Requirement already satisfied: numba in ./anaconda3/lib/python3.10/site-packages (from shap) (0.56.4)\r\n",
      "Requirement already satisfied: cloudpickle in ./anaconda3/lib/python3.10/site-packages (from shap) (2.0.0)\r\n",
      "Requirement already satisfied: slicer==0.0.7 in ./anaconda3/lib/python3.10/site-packages (from shap) (0.0.7)\r\n",
      "Requirement already satisfied: tqdm>=4.27.0 in ./anaconda3/lib/python3.10/site-packages (from shap) (4.64.1)\r\n",
      "Requirement already satisfied: scipy in ./anaconda3/lib/python3.10/site-packages (from shap) (1.10.0)\r\n",
      "Requirement already satisfied: pandas in ./anaconda3/lib/python3.10/site-packages (from shap) (1.5.3)\r\n",
      "Requirement already satisfied: packaging>20.9 in ./anaconda3/lib/python3.10/site-packages (from shap) (22.0)\r\n",
      "Requirement already satisfied: scikit-learn in ./anaconda3/lib/python3.10/site-packages (from shap) (1.2.1)\r\n",
      "Requirement already satisfied: numpy in ./anaconda3/lib/python3.10/site-packages (from shap) (1.23.5)\r\n",
      "Requirement already satisfied: llvmlite<0.40,>=0.39.0dev0 in ./anaconda3/lib/python3.10/site-packages (from numba->shap) (0.39.1)\r\n",
      "Requirement already satisfied: setuptools in ./anaconda3/lib/python3.10/site-packages (from numba->shap) (65.6.3)\r\n",
      "Requirement already satisfied: python-dateutil>=2.8.1 in ./anaconda3/lib/python3.10/site-packages (from pandas->shap) (2.8.2)\r\n",
      "Requirement already satisfied: pytz>=2020.1 in ./anaconda3/lib/python3.10/site-packages (from pandas->shap) (2022.7)\r\n",
      "Requirement already satisfied: joblib>=1.1.1 in ./anaconda3/lib/python3.10/site-packages (from scikit-learn->shap) (1.1.1)\r\n",
      "Requirement already satisfied: threadpoolctl>=2.0.0 in ./anaconda3/lib/python3.10/site-packages (from scikit-learn->shap) (2.2.0)\r\n",
      "Requirement already satisfied: six>=1.5 in ./anaconda3/lib/python3.10/site-packages (from python-dateutil>=2.8.1->pandas->shap) (1.16.0)\r\n"
     ]
    }
   ],
   "source": [
    "!pip install shap \n"
   ]
  },
  {
   "cell_type": "code",
   "execution_count": 26,
   "id": "c5ca3076",
   "metadata": {},
   "outputs": [
    {
     "data": {
      "image/png": "[encoded data removed]",
      "text/plain": [
       "<Figure size 800x230 with 2 Axes>"
      ]
     },
     "metadata": {},
     "output_type": "display_data"
    }
   ],
   "source": [
    "import shap\n",
    "import numpy as np\n",
    "\n",
    "# Convert X_test to a numpy array\n",
    "X_test_np = np.array(X_test)\n",
    "\n",
    "# Create a SHAP explainer for your model\n",
    "explainer = shap.Explainer(model, masker=shap.maskers.Independent(X_test_np))\n",
    "\n",
    "# Calculate SHAP values for a set of instances (e.g., X_test_np)\n",
    "shap_values = explainer(X_test_np)\n",
    "\n",
    "# Visualize SHAP values for a specific instance\n",
    "shap.summary_plot(shap_values, X_test_np)\n",
    "\n",
    "#code was supported by information from google,Chatgpt & github\n"
   ]
  },
  {
   "cell_type": "markdown",
   "id": "3a866d3e",
   "metadata": {},
   "source": [
    "Use Case:\n",
    "Credit Applicatio Approval:\n",
    "\n",
    "Problem:AI model that predicts whether a customer should be approved for a credit application and the loan officer needs to understand why a particular applicant was denied credit to provide a transparent and accountable decision.\n",
    "\n",
    "Benefit of SHAP:\n",
    "SHAP values can show the loan officer the contribution of each feature (e.g., income, credit score, debt-to-income ratio) to the model's decision for a specific applicant.\n",
    "This transparency helps the loan officer explain the decision to the applicant and ensures accountability in the credit approval process.\n",
    "\n",
    "\n",
    "Explanation:\n",
    "If the model denied credit due to a low credit score, SHAP values would highlight how much the credit score influenced the decision.\n",
    "This explanation empowers the loan officer to communicate specific reasons for the denial, fostering trust and accountability.\n",
    "Implementing SHAP or a similar method enhances the interpretability of complex models, making them more understandable and accountable, particularly in high-stakes applications like credit approval.\n",
    "\n",
    "#information was gathered using Google"
   ]
  },
  {
   "cell_type": "markdown",
   "id": "d6515dad",
   "metadata": {},
   "source": [
    "# 3.\tDemonstrate your ability to optimize a model's performance (in terms of accuracy and speed) through hyperparameter tuning."
   ]
  },
  {
   "cell_type": "code",
   "execution_count": 12,
   "id": "aa82f824",
   "metadata": {},
   "outputs": [
    {
     "name": "stdout",
     "output_type": "stream",
     "text": [
      "Baseline Accuracy: 1.0\n",
      "Tuned Accuracy: 1.0\n",
      "Improvement in Accuracy: 0.0\n",
      "Best Hyperparameters: {'max_depth': None, 'min_samples_leaf': 1, 'min_samples_split': 2, 'n_estimators': 100}\n"
     ]
    }
   ],
   "source": [
    "\n",
    "import pandas as pd\n",
    "from sklearn.model_selection import train_test_split\n",
    "from sklearn.ensemble import RandomForestClassifier\n",
    "from sklearn.model_selection import GridSearchCV\n",
    "from sklearn.metrics import accuracy_score\n",
    "\n",
    "# Create the DataFrame\n",
    "data = {'feature1': [1, 2, 3, 4, 5, 6, 7, 8, 9, 10],\n",
    "        'feature2': [0, 1, 0, 1, 0, 1, 0, 1, 0, 1],\n",
    "        'label': [0, 1, 0, 1, 0, 1, 0, 1, 0, 1]}\n",
    "df = pd.DataFrame(data)\n",
    "\n",
    "# Split the data\n",
    "X = df[['feature1', 'feature2']]\n",
    "y = df['label']\n",
    "X_train, X_val, y_train, y_val = train_test_split(X, y, test_size=0.2, random_state=42)\n",
    "\n",
    "# Set a Baseline\n",
    "baseline_model = RandomForestClassifier(random_state=42)\n",
    "baseline_model.fit(X_train, y_train)\n",
    "baseline_predictions = baseline_model.predict(X_val)\n",
    "baseline_accuracy = accuracy_score(y_val, baseline_predictions)\n",
    "print(f\"Baseline Accuracy: {baseline_accuracy}\")\n",
    "\n",
    "# Identify Hyperparameters\n",
    "param_grid = {\n",
    "    'n_estimators': [50, 100, 200],\n",
    "    'max_depth': [None, 10, 20],\n",
    "    'min_samples_split': [2, 5, 10],\n",
    "    'min_samples_leaf': [1, 2, 4]\n",
    "}\n",
    "\n",
    "# Choose a Hyperparameter Tuning Technique\n",
    "grid_search = GridSearchCV(RandomForestClassifier(random_state=42), param_grid, cv=3, scoring='accuracy')\n",
    "\n",
    "# Implement Hyperparameter Tuning\n",
    "grid_search.fit(X_train, y_train)\n",
    "\n",
    "# Evaluate Performance\n",
    "best_model = grid_search.best_estimator_\n",
    "tuned_predictions = best_model.predict(X_val)\n",
    "tuned_accuracy = accuracy_score(y_val, tuned_predictions)\n",
    "print(f\"Tuned Accuracy: {tuned_accuracy}\")\n",
    "\n",
    "# Discuss Results\n",
    "print(f\"Improvement in Accuracy: {tuned_accuracy - baseline_accuracy}\")\n",
    "\n",
    "# Present Findings\n",
    "print(\"Best Hyperparameters:\", grid_search.best_params_)\n",
    "\n",
    "\n",
    "#Used chatgpt & github for some code parts"
   ]
  },
  {
   "cell_type": "markdown",
   "id": "3085d015",
   "metadata": {},
   "source": [
    "# 4.\tGiven a set of performance metrics from your AI model (e.g., precision, recall, F1 score), how would you analyze and interpret these results? What conclusions can you draw about the model’s effectiveness, its potential biases, and areas of improvement?"
   ]
  },
  {
   "cell_type": "markdown",
   "id": "29f5d79b",
   "metadata": {},
   "source": [
    "Analyzing performance metrics like precision, recall, and F1 score provides a quick snapshot of how well an AI model is doing. High precision means the model is good at avoiding false positives, high recall means it's good at catching all actual positives, and a high F1 score means it balances both well. If precision matters more (like in medical diagnoses), focus on improving that; if catching all positives is critical (e.g., fraud detection), then emphasize recall. Check for biases in predictions, especially if there are disparities between different groups. Look at areas where the model makes mistakes (false positives and false negatives) to fine-tune features or data. Adjusting the classification threshold and using cross-validation can enhance robustness. Regularly communicate results, understand limitations, and keep improving the model over time."
   ]
  },
  {
   "cell_type": "markdown",
   "id": "bf3c7361",
   "metadata": {},
   "source": [
    "# 5.\tAnalyze a real-world situation where the deployment of AI has caused unintended consequences. What lessons can be learned from this incident, and how would you apply these lessons to your future work in responsible AI?"
   ]
  },
  {
   "cell_type": "markdown",
   "id": "c9e869d9",
   "metadata": {},
   "source": [
    "One notable real-world situation involves the deployment of facial recognition technology by law enforcement agencies. In several instances, these systems exhibited biases, leading to misidentification and potential violations of individuals' privacy rights. The unintended consequence was the exacerbation of racial and gender biases, as these systems tended to perform less accurately on people with darker skin tones and females.\n",
    "\n",
    "The key lessons from such incidents include the importance of rigorous testing for biases in AI models, especially when deploying them in sensitive domains like law enforcement. Robust evaluation processes should be in place to identify and rectify biases before deployment. Transparency in AI development, where the algorithms and data sources are clearly communicated, is crucial. Additionally, continuous monitoring and updates are necessary to adapt models to evolving societal norms and changes in the data landscape.\n",
    "\n",
    "Applying these lessons to future work in responsible AI, I would prioritize fairness assessments, ensuring that models are not only accurate but also equitable across different demographic groups. I would advocate for transparent AI development practices and engage in ongoing collaborations with diverse stakeholders to solicit feedback and perspectives. Regular audits and updates to the models would be integral to maintaining their ethical and unbiased performance over time."
   ]
  },
  {
   "cell_type": "markdown",
   "id": "3b6b1b08",
   "metadata": {},
   "source": [
    "# 6.\tFrom a data science perspective, explain the concept of Fairness in AI. How can you ensure that the AI models you develop and deploy do not perpetuate existing social biases?"
   ]
  },
  {
   "cell_type": "markdown",
   "id": "640db35a",
   "metadata": {},
   "source": [
    "In the realm of data science, Fairness in AI refers to the equitable treatment of individuals across diverse demographic groups, aiming to prevent biases from being perpetuated or exacerbated by AI models. Ensuring fairness involves scrutinizing and mitigating biases in training data, feature selection, and model algorithms. Strategies include employing representative datasets, considering the context of data collection, and implementing fairness-aware algorithms. Regular audits, transparency in decision-making processes, and involving diverse perspectives in model development are essential to address potential biases. Striving for fairness in AI entails a commitment to equity, diversity, and ongoing evaluation, ultimately fostering models that contribute positively to society without reinforcing social biases."
   ]
  },
  {
   "cell_type": "markdown",
   "id": "41438102",
   "metadata": {},
   "source": [
    "# 7.\tExplain how you would handle a situation where a non-technical stakeholder is resistant to adopting an AI model you've developed due to a lack of understanding. How would you communicate the workings and benefits of the model to gain their trust and buy-in?"
   ]
  },
  {
   "cell_type": "markdown",
   "id": "738dbc66",
   "metadata": {},
   "source": [
    "When faced with a non-technical stakeholder resistant to adopting an AI model, effective communication becomes pivotal. I would employ a straightforward, non-technical language to convey the model's purpose, benefits, and potential impact on the stakeholder's goals. Utilizing relatable examples and real-world analogies can make complex concepts more accessible. Moreover, I'd offer demonstrations, illustrating the model's tangible contributions and addressing concerns. Establishing an open dialogue, actively listening to their apprehensions, and incorporating their feedback in a collaborative manner would be crucial. Transparently outlining the model's limitations, risks, and mitigation strategies can build trust. Overall, fostering a supportive environment, emphasizing practical advantages, and tailoring the communication to align with the stakeholder's perspective can help bridge the understanding gap and facilitate buy-in."
   ]
  },
  {
   "cell_type": "markdown",
   "id": "9e844129",
   "metadata": {},
   "source": [
    "# 8.\tTeamwork is a critical component of research. Please describe an instance where you've had to work collaboratively to solve a complex problem. How did you ensure your team functioned effectively and inclusively, and what was the outcome? "
   ]
  },
  {
   "cell_type": "markdown",
   "id": "bb1c51e0",
   "metadata": {},
   "source": [
    "In a previous group project related to my MSc, our team aimed to enhance a recommendation system for an e-commerce platform. Facing the complexity of diverse data sources and user preferences, collaboration was key. We initiated regular team meetings to discuss progress, challenges, and individual contributions. To ensure inclusivity, we encouraged open communication and valued each team member's perspective. Different team members took on specialized roles based on their strengths, promoting a sense of ownership and expertise. We employed collaborative tools for shared documentation and version control, streamlining our workflow.\n",
    "\n",
    "Throughout the project, we held brainstorming sessions to address challenges collectively. By fostering an inclusive environment, team members felt comfortable proposing ideas and constructive criticism. This collaborative approach led to innovative solutions, blending diverse insights and expertise. The outcome was a refined recommendation system that demonstrated improved accuracy and user satisfaction. This experience reinforced my belief in the power of teamwork, diversity, and open communication for tackling complex problems and achieving successful outcomes.\n"
   ]
  }
 ],
 "metadata": {
  "kernelspec": {
   "display_name": "Python 3 (ipykernel)",
   "language": "python",
   "name": "python3"
  },
  "language_info": {
   "codemirror_mode": {
    "name": "ipython",
    "version": 3
   },
   "file_extension": ".py",
   "mimetype": "text/x-python",
   "name": "python",
   "nbconvert_exporter": "python",
   "pygments_lexer": "ipython3",
   "version": "3.10.9"
  }
 },
 "nbformat": 4,
 "nbformat_minor": 5
}
